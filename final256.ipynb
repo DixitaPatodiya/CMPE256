{
 "cells": [
  {
   "cell_type": "code",
   "execution_count": 2,
   "metadata": {},
   "outputs": [],
   "source": [
    "import time\n",
    "start = time.time()\n",
    "\n",
    "import numpy as np # linear algebra\n",
    "import pandas as pd # data processing, CSV file I/O (e.g. pd.read_csv)\n",
    "#from tqdm import tqdm\n",
    "\n",
    "from sklearn.feature_extraction.text import TfidfVectorizer\n",
    "from sklearn.metrics import roc_auc_score\n",
    "from sklearn.model_selection import KFold, RepeatedKFold\n",
    "from sklearn.preprocessing import LabelEncoder\n",
    "from scipy.sparse import hstack, csr_matrix\n",
    "\n",
    "from sklearn.model_selection import train_test_split, RandomizedSearchCV, GridSearchCV\n",
    "from sklearn import metrics\n",
    "from sklearn.metrics import confusion_matrix, roc_curve, auc, roc_auc_score\n",
    "from sklearn.feature_extraction.text import TfidfVectorizer\n",
    "from sklearn.linear_model import LogisticRegression\n",
    "from sklearn.model_selection import cross_val_score\n",
    "from sklearn.preprocessing import StandardScaler\n",
    "\n",
    "import gc"
   ]
  },
  {
   "cell_type": "code",
   "execution_count": 12,
   "metadata": {},
   "outputs": [],
   "source": [
    "# Read the data and indexing id column in train and test data so that it will be easy to merge.\n",
    "train = pd.read_csv(\"../input/train.csv\",index_col=\"id\")\n",
    "testing = pd.read_csv(\"../input/test.csv\")\n",
    "test = pd.read_csv(\"../input/test.csv\",index_col=\"id\")\n",
    "#replacing null values with the string missing data.\n",
    "resource = pd.read_csv(\"../input/resources.csv\").fillna(\"missingdata\")"
   ]
  },
  {
   "cell_type": "code",
   "execution_count": 10,
   "metadata": {},
   "outputs": [
    {
     "name": "stdout",
     "output_type": "stream",
     "text": [
      "('Train data size: ', (182080, 15))\n",
      "('Test data size: ', (78035, 14))\n",
      "('Resource data size: ', (1541272, 4))\n"
     ]
    }
   ],
   "source": [
    "#Size of tha dataset.\n",
    "print(\"Train data size: \",train.shape)\n",
    "print(\"Test data size: \",test.shape)\n",
    "print(\"Resource data size: \",resource.shape)"
   ]
  },
  {
   "cell_type": "code",
   "execution_count": 13,
   "metadata": {},
   "outputs": [],
   "source": [
    "# Taking sum of quantity and price of same id in resource and then merging train and test data with resources file.\n",
    "merge_resource = resource.reset_index().groupby('id').agg(dict(quantity = 'sum', price = 'sum', description = lambda x: ' sumvalue '.join(x)))\n",
    "train_data = pd.merge(train,merge_resource, left_index=True, right_index=True, how= \"inner\")\n",
    "test_data = pd.merge(test,merge_resource, left_index=True, right_index=True, how= \"inner\")"
   ]
  },
  {
   "cell_type": "code",
   "execution_count": 14,
   "metadata": {},
   "outputs": [
    {
     "data": {
      "text/html": [
       "<div>\n",
       "<style scoped>\n",
       "    .dataframe tbody tr th:only-of-type {\n",
       "        vertical-align: middle;\n",
       "    }\n",
       "\n",
       "    .dataframe tbody tr th {\n",
       "        vertical-align: top;\n",
       "    }\n",
       "\n",
       "    .dataframe thead th {\n",
       "        text-align: right;\n",
       "    }\n",
       "</style>\n",
       "<table border=\"1\" class=\"dataframe\">\n",
       "  <thead>\n",
       "    <tr style=\"text-align: right;\">\n",
       "      <th></th>\n",
       "      <th>teacher_id</th>\n",
       "      <th>teacher_prefix</th>\n",
       "      <th>school_state</th>\n",
       "      <th>project_submitted_datetime</th>\n",
       "      <th>project_grade_category</th>\n",
       "      <th>project_subject_categories</th>\n",
       "      <th>project_subject_subcategories</th>\n",
       "      <th>project_title</th>\n",
       "      <th>project_essay_1</th>\n",
       "      <th>project_essay_2</th>\n",
       "      <th>project_essay_3</th>\n",
       "      <th>project_essay_4</th>\n",
       "      <th>project_resource_summary</th>\n",
       "      <th>teacher_number_of_previously_posted_projects</th>\n",
       "      <th>project_is_approved</th>\n",
       "      <th>price</th>\n",
       "      <th>description</th>\n",
       "      <th>quantity</th>\n",
       "    </tr>\n",
       "    <tr>\n",
       "      <th>id</th>\n",
       "      <th></th>\n",
       "      <th></th>\n",
       "      <th></th>\n",
       "      <th></th>\n",
       "      <th></th>\n",
       "      <th></th>\n",
       "      <th></th>\n",
       "      <th></th>\n",
       "      <th></th>\n",
       "      <th></th>\n",
       "      <th></th>\n",
       "      <th></th>\n",
       "      <th></th>\n",
       "      <th></th>\n",
       "      <th></th>\n",
       "      <th></th>\n",
       "      <th></th>\n",
       "      <th></th>\n",
       "    </tr>\n",
       "  </thead>\n",
       "  <tbody>\n",
       "    <tr>\n",
       "      <th>p036502</th>\n",
       "      <td>484aaf11257089a66cfedc9461c6bd0a</td>\n",
       "      <td>Ms.</td>\n",
       "      <td>NV</td>\n",
       "      <td>2016-11-18 14:45:59</td>\n",
       "      <td>Grades PreK-2</td>\n",
       "      <td>Literacy &amp; Language</td>\n",
       "      <td>Literacy</td>\n",
       "      <td>Super Sight Word Centers</td>\n",
       "      <td>Most of my kindergarten students come from low...</td>\n",
       "      <td>I currently have a differentiated sight word c...</td>\n",
       "      <td>NaN</td>\n",
       "      <td>NaN</td>\n",
       "      <td>My students need 6 Ipod Nano's to create and d...</td>\n",
       "      <td>26</td>\n",
       "      <td>1</td>\n",
       "      <td>299.98</td>\n",
       "      <td>Apple - iPod nano� 16GB MP3 Player (8th Genera...</td>\n",
       "      <td>6</td>\n",
       "    </tr>\n",
       "    <tr>\n",
       "      <th>p039565</th>\n",
       "      <td>df72a3ba8089423fa8a94be88060f6ed</td>\n",
       "      <td>Mrs.</td>\n",
       "      <td>GA</td>\n",
       "      <td>2017-04-26 15:57:28</td>\n",
       "      <td>Grades 3-5</td>\n",
       "      <td>Music &amp; The Arts, Health &amp; Sports</td>\n",
       "      <td>Performing Arts, Team Sports</td>\n",
       "      <td>Keep Calm and Dance On</td>\n",
       "      <td>Our elementary school is a culturally rich sch...</td>\n",
       "      <td>We strive to provide our diverse population of...</td>\n",
       "      <td>NaN</td>\n",
       "      <td>NaN</td>\n",
       "      <td>My students need matching shirts to wear for d...</td>\n",
       "      <td>1</td>\n",
       "      <td>0</td>\n",
       "      <td>20.00</td>\n",
       "      <td>Reebok Girls' Fashion Dance Graphic T-Shirt - ...</td>\n",
       "      <td>20</td>\n",
       "    </tr>\n",
       "    <tr>\n",
       "      <th>p233823</th>\n",
       "      <td>a9b876a9252e08a55e3d894150f75ba3</td>\n",
       "      <td>Ms.</td>\n",
       "      <td>UT</td>\n",
       "      <td>2017-01-01 22:57:44</td>\n",
       "      <td>Grades 3-5</td>\n",
       "      <td>Math &amp; Science, Literacy &amp; Language</td>\n",
       "      <td>Applied Sciences, Literature &amp; Writing</td>\n",
       "      <td>Lets 3Doodle to Learn</td>\n",
       "      <td>Hello;\\r\\nMy name is Mrs. Brotherton. I teach ...</td>\n",
       "      <td>We are looking to add some 3Doodler to our cla...</td>\n",
       "      <td>NaN</td>\n",
       "      <td>NaN</td>\n",
       "      <td>My students need the 3doodler. We are an SEM s...</td>\n",
       "      <td>5</td>\n",
       "      <td>1</td>\n",
       "      <td>469.99</td>\n",
       "      <td>3doodler Start Full Edu Bundle</td>\n",
       "      <td>1</td>\n",
       "    </tr>\n",
       "    <tr>\n",
       "      <th>p185307</th>\n",
       "      <td>525fdbb6ec7f538a48beebaa0a51b24f</td>\n",
       "      <td>Mr.</td>\n",
       "      <td>NC</td>\n",
       "      <td>2016-08-12 15:42:11</td>\n",
       "      <td>Grades 3-5</td>\n",
       "      <td>Health &amp; Sports</td>\n",
       "      <td>Health &amp; Wellness</td>\n",
       "      <td>\\\"Kid Inspired\\\" Equipment to Increase Activit...</td>\n",
       "      <td>My students are the greatest students but are ...</td>\n",
       "      <td>The student's project which is totally \\\"kid-i...</td>\n",
       "      <td>NaN</td>\n",
       "      <td>NaN</td>\n",
       "      <td>My students need balls and other activity equi...</td>\n",
       "      <td>16</td>\n",
       "      <td>0</td>\n",
       "      <td>684.47</td>\n",
       "      <td>BALL PG 4'' POLY SET OF 6 COLORS sumvalue BALL...</td>\n",
       "      <td>5</td>\n",
       "    </tr>\n",
       "    <tr>\n",
       "      <th>p013780</th>\n",
       "      <td>a63b5547a7239eae4c1872670848e61a</td>\n",
       "      <td>Mr.</td>\n",
       "      <td>CA</td>\n",
       "      <td>2016-08-06 09:09:11</td>\n",
       "      <td>Grades 6-8</td>\n",
       "      <td>Health &amp; Sports</td>\n",
       "      <td>Health &amp; Wellness</td>\n",
       "      <td>We need clean water for our culinary arts class!</td>\n",
       "      <td>My students are athletes and students who are ...</td>\n",
       "      <td>For some reason in our kitchen the water comes...</td>\n",
       "      <td>NaN</td>\n",
       "      <td>NaN</td>\n",
       "      <td>My students need a water filtration system for...</td>\n",
       "      <td>42</td>\n",
       "      <td>1</td>\n",
       "      <td>355.50</td>\n",
       "      <td>Crown Berkey Water Filter With 2 Black and 2 P...</td>\n",
       "      <td>2</td>\n",
       "    </tr>\n",
       "  </tbody>\n",
       "</table>\n",
       "</div>"
      ],
      "text/plain": [
       "                               teacher_id teacher_prefix school_state  \\\n",
       "id                                                                      \n",
       "p036502  484aaf11257089a66cfedc9461c6bd0a            Ms.           NV   \n",
       "p039565  df72a3ba8089423fa8a94be88060f6ed           Mrs.           GA   \n",
       "p233823  a9b876a9252e08a55e3d894150f75ba3            Ms.           UT   \n",
       "p185307  525fdbb6ec7f538a48beebaa0a51b24f            Mr.           NC   \n",
       "p013780  a63b5547a7239eae4c1872670848e61a            Mr.           CA   \n",
       "\n",
       "        project_submitted_datetime project_grade_category  \\\n",
       "id                                                          \n",
       "p036502        2016-11-18 14:45:59          Grades PreK-2   \n",
       "p039565        2017-04-26 15:57:28             Grades 3-5   \n",
       "p233823        2017-01-01 22:57:44             Grades 3-5   \n",
       "p185307        2016-08-12 15:42:11             Grades 3-5   \n",
       "p013780        2016-08-06 09:09:11             Grades 6-8   \n",
       "\n",
       "                  project_subject_categories  \\\n",
       "id                                             \n",
       "p036502                  Literacy & Language   \n",
       "p039565    Music & The Arts, Health & Sports   \n",
       "p233823  Math & Science, Literacy & Language   \n",
       "p185307                      Health & Sports   \n",
       "p013780                      Health & Sports   \n",
       "\n",
       "                  project_subject_subcategories  \\\n",
       "id                                                \n",
       "p036502                                Literacy   \n",
       "p039565            Performing Arts, Team Sports   \n",
       "p233823  Applied Sciences, Literature & Writing   \n",
       "p185307                       Health & Wellness   \n",
       "p013780                       Health & Wellness   \n",
       "\n",
       "                                             project_title  \\\n",
       "id                                                           \n",
       "p036502                           Super Sight Word Centers   \n",
       "p039565                             Keep Calm and Dance On   \n",
       "p233823                              Lets 3Doodle to Learn   \n",
       "p185307  \\\"Kid Inspired\\\" Equipment to Increase Activit...   \n",
       "p013780   We need clean water for our culinary arts class!   \n",
       "\n",
       "                                           project_essay_1  \\\n",
       "id                                                           \n",
       "p036502  Most of my kindergarten students come from low...   \n",
       "p039565  Our elementary school is a culturally rich sch...   \n",
       "p233823  Hello;\\r\\nMy name is Mrs. Brotherton. I teach ...   \n",
       "p185307  My students are the greatest students but are ...   \n",
       "p013780  My students are athletes and students who are ...   \n",
       "\n",
       "                                           project_essay_2 project_essay_3  \\\n",
       "id                                                                           \n",
       "p036502  I currently have a differentiated sight word c...             NaN   \n",
       "p039565  We strive to provide our diverse population of...             NaN   \n",
       "p233823  We are looking to add some 3Doodler to our cla...             NaN   \n",
       "p185307  The student's project which is totally \\\"kid-i...             NaN   \n",
       "p013780  For some reason in our kitchen the water comes...             NaN   \n",
       "\n",
       "        project_essay_4                           project_resource_summary  \\\n",
       "id                                                                           \n",
       "p036502             NaN  My students need 6 Ipod Nano's to create and d...   \n",
       "p039565             NaN  My students need matching shirts to wear for d...   \n",
       "p233823             NaN  My students need the 3doodler. We are an SEM s...   \n",
       "p185307             NaN  My students need balls and other activity equi...   \n",
       "p013780             NaN  My students need a water filtration system for...   \n",
       "\n",
       "         teacher_number_of_previously_posted_projects  project_is_approved  \\\n",
       "id                                                                           \n",
       "p036502                                            26                    1   \n",
       "p039565                                             1                    0   \n",
       "p233823                                             5                    1   \n",
       "p185307                                            16                    0   \n",
       "p013780                                            42                    1   \n",
       "\n",
       "          price                                        description  quantity  \n",
       "id                                                                            \n",
       "p036502  299.98  Apple - iPod nano� 16GB MP3 Player (8th Genera...         6  \n",
       "p039565   20.00  Reebok Girls' Fashion Dance Graphic T-Shirt - ...        20  \n",
       "p233823  469.99                     3doodler Start Full Edu Bundle         1  \n",
       "p185307  684.47  BALL PG 4'' POLY SET OF 6 COLORS sumvalue BALL...         5  \n",
       "p013780  355.50  Crown Berkey Water Filter With 2 Black and 2 P...         2  "
      ]
     },
     "execution_count": 14,
     "metadata": {},
     "output_type": "execute_result"
    }
   ],
   "source": [
    "train_data.head()"
   ]
  },
  {
   "cell_type": "code",
   "execution_count": 16,
   "metadata": {},
   "outputs": [
    {
     "name": "stdout",
     "output_type": "stream",
     "text": [
      "('Train data size after merge: ', (182080, 18))\n",
      "('Test data size after merge: ', (78035, 17))\n"
     ]
    }
   ],
   "source": [
    "#The size of the train and test data set should be same after merging. The merge should happen according to id.\n",
    "#check size after merging.\n",
    "print(\"Train data size after merge: \",train_data.shape)\n",
    "print(\"Test data size after merge: \",test_data.shape)"
   ]
  },
  {
   "cell_type": "code",
   "execution_count": 17,
   "metadata": {},
   "outputs": [
    {
     "name": "stdout",
     "output_type": "stream",
     "text": [
      "<class 'pandas.core.frame.DataFrame'>\n",
      "Index: 182080 entries, p036502 to p190772\n",
      "Data columns (total 18 columns):\n",
      "teacher_id                                      182080 non-null object\n",
      "teacher_prefix                                  182076 non-null object\n",
      "school_state                                    182080 non-null object\n",
      "project_submitted_datetime                      182080 non-null object\n",
      "project_grade_category                          182080 non-null object\n",
      "project_subject_categories                      182080 non-null object\n",
      "project_subject_subcategories                   182080 non-null object\n",
      "project_title                                   182080 non-null object\n",
      "project_essay_1                                 182080 non-null object\n",
      "project_essay_2                                 182080 non-null object\n",
      "project_essay_3                                 6374 non-null object\n",
      "project_essay_4                                 6374 non-null object\n",
      "project_resource_summary                        182080 non-null object\n",
      "teacher_number_of_previously_posted_projects    182080 non-null int64\n",
      "project_is_approved                             182080 non-null int64\n",
      "price                                           182080 non-null float64\n",
      "description                                     182080 non-null object\n",
      "quantity                                        182080 non-null int64\n",
      "dtypes: float64(1), int64(3), object(14)\n",
      "memory usage: 26.4+ MB\n"
     ]
    }
   ],
   "source": [
    "#info of train data\n",
    "train_data.info()"
   ]
  },
  {
   "cell_type": "code",
   "execution_count": 18,
   "metadata": {},
   "outputs": [
    {
     "data": {
      "text/html": [
       "<div>\n",
       "<style scoped>\n",
       "    .dataframe tbody tr th:only-of-type {\n",
       "        vertical-align: middle;\n",
       "    }\n",
       "\n",
       "    .dataframe tbody tr th {\n",
       "        vertical-align: top;\n",
       "    }\n",
       "\n",
       "    .dataframe thead th {\n",
       "        text-align: right;\n",
       "    }\n",
       "</style>\n",
       "<table border=\"1\" class=\"dataframe\">\n",
       "  <thead>\n",
       "    <tr style=\"text-align: right;\">\n",
       "      <th></th>\n",
       "      <th>teacher_number_of_previously_posted_projects</th>\n",
       "      <th>project_is_approved</th>\n",
       "      <th>price</th>\n",
       "      <th>quantity</th>\n",
       "    </tr>\n",
       "  </thead>\n",
       "  <tbody>\n",
       "    <tr>\n",
       "      <th>count</th>\n",
       "      <td>182080.000000</td>\n",
       "      <td>182080.000000</td>\n",
       "      <td>182080.000000</td>\n",
       "      <td>182080.000000</td>\n",
       "    </tr>\n",
       "    <tr>\n",
       "      <th>mean</th>\n",
       "      <td>11.237055</td>\n",
       "      <td>0.847682</td>\n",
       "      <td>297.731304</td>\n",
       "      <td>16.971447</td>\n",
       "    </tr>\n",
       "    <tr>\n",
       "      <th>std</th>\n",
       "      <td>28.016086</td>\n",
       "      <td>0.359330</td>\n",
       "      <td>366.718002</td>\n",
       "      <td>26.241957</td>\n",
       "    </tr>\n",
       "    <tr>\n",
       "      <th>min</th>\n",
       "      <td>0.000000</td>\n",
       "      <td>0.000000</td>\n",
       "      <td>0.660000</td>\n",
       "      <td>1.000000</td>\n",
       "    </tr>\n",
       "    <tr>\n",
       "      <th>25%</th>\n",
       "      <td>0.000000</td>\n",
       "      <td>1.000000</td>\n",
       "      <td>104.480000</td>\n",
       "      <td>4.000000</td>\n",
       "    </tr>\n",
       "    <tr>\n",
       "      <th>50%</th>\n",
       "      <td>2.000000</td>\n",
       "      <td>1.000000</td>\n",
       "      <td>205.980000</td>\n",
       "      <td>9.000000</td>\n",
       "    </tr>\n",
       "    <tr>\n",
       "      <th>75%</th>\n",
       "      <td>9.000000</td>\n",
       "      <td>1.000000</td>\n",
       "      <td>379.000000</td>\n",
       "      <td>21.000000</td>\n",
       "    </tr>\n",
       "    <tr>\n",
       "      <th>max</th>\n",
       "      <td>451.000000</td>\n",
       "      <td>1.000000</td>\n",
       "      <td>9999.000000</td>\n",
       "      <td>930.000000</td>\n",
       "    </tr>\n",
       "  </tbody>\n",
       "</table>\n",
       "</div>"
      ],
      "text/plain": [
       "       teacher_number_of_previously_posted_projects  project_is_approved  \\\n",
       "count                                 182080.000000        182080.000000   \n",
       "mean                                      11.237055             0.847682   \n",
       "std                                       28.016086             0.359330   \n",
       "min                                        0.000000             0.000000   \n",
       "25%                                        0.000000             1.000000   \n",
       "50%                                        2.000000             1.000000   \n",
       "75%                                        9.000000             1.000000   \n",
       "max                                      451.000000             1.000000   \n",
       "\n",
       "               price       quantity  \n",
       "count  182080.000000  182080.000000  \n",
       "mean      297.731304      16.971447  \n",
       "std       366.718002      26.241957  \n",
       "min         0.660000       1.000000  \n",
       "25%       104.480000       4.000000  \n",
       "50%       205.980000       9.000000  \n",
       "75%       379.000000      21.000000  \n",
       "max      9999.000000     930.000000  "
      ]
     },
     "execution_count": 18,
     "metadata": {},
     "output_type": "execute_result"
    }
   ],
   "source": [
    "#check description of the train data.\n",
    "train_data.describe()"
   ]
  },
  {
   "cell_type": "code",
   "execution_count": 19,
   "metadata": {},
   "outputs": [
    {
     "name": "stdout",
     "output_type": "stream",
     "text": [
      "<bound method Series.count of project_essay_4                                 175706\n",
      "project_essay_3                                 175706\n",
      "teacher_prefix                                       4\n",
      "quantity                                             0\n",
      "project_title                                        0\n",
      "school_state                                         0\n",
      "project_submitted_datetime                           0\n",
      "project_grade_category                               0\n",
      "project_subject_categories                           0\n",
      "project_subject_subcategories                        0\n",
      "project_essay_1                                      0\n",
      "description                                          0\n",
      "project_essay_2                                      0\n",
      "project_resource_summary                             0\n",
      "teacher_number_of_previously_posted_projects         0\n",
      "project_is_approved                                  0\n",
      "price                                                0\n",
      "teacher_id                                           0\n",
      "dtype: int64>\n"
     ]
    }
   ],
   "source": [
    "#check for missing values and displaying count for each feature for train data.\n",
    "total = train_data.isnull().sum().sort_values(ascending = False)\n",
    "print(total.count)"
   ]
  },
  {
   "cell_type": "code",
   "execution_count": 54,
   "metadata": {},
   "outputs": [
    {
     "data": {
      "text/html": [
       "<script>requirejs.config({paths: { 'plotly': ['https://cdn.plot.ly/plotly-latest.min']},});if(!window.Plotly) {{require(['plotly'],function(plotly) {window.Plotly=plotly;});}}</script>"
      ],
      "text/vnd.plotly.v1+html": [
       "<script>requirejs.config({paths: { 'plotly': ['https://cdn.plot.ly/plotly-latest.min']},});if(!window.Plotly) {{require(['plotly'],function(plotly) {window.Plotly=plotly;});}}</script>"
      ]
     },
     "metadata": {},
     "output_type": "display_data"
    },
    {
     "data": {
      "application/vnd.plotly.v1+json": {
       "data": [
        {
         "type": "bar",
         "x": [
          "Literacy & Language",
          "Math & Science",
          "Literacy & Language, Math & Science",
          "Health & Sports",
          "Music & The Arts",
          "Special Needs",
          "Literacy & Language, Special Needs",
          "Applied Learning",
          "Math & Science, Literacy & Language",
          "Applied Learning, Literacy & Language",
          "History & Civics",
          "Math & Science, Special Needs",
          "Literacy & Language, Music & The Arts",
          "Math & Science, Music & The Arts",
          "Applied Learning, Special Needs",
          "Health & Sports, Special Needs",
          "History & Civics, Literacy & Language",
          "Warmth, Care & Hunger",
          "Math & Science, Applied Learning",
          "Applied Learning, Math & Science",
          "Literacy & Language, History & Civics",
          "Health & Sports, Literacy & Language",
          "Applied Learning, Music & The Arts",
          "Math & Science, History & Civics",
          "Literacy & Language, Applied Learning",
          "Applied Learning, Health & Sports",
          "Math & Science, Health & Sports",
          "History & Civics, Music & The Arts",
          "History & Civics, Math & Science",
          "Special Needs, Music & The Arts",
          "Health & Sports, Math & Science",
          "History & Civics, Special Needs",
          "Applied Learning, History & Civics",
          "Health & Sports, Applied Learning",
          "Health & Sports, Music & The Arts",
          "Music & The Arts, Special Needs",
          "Literacy & Language, Health & Sports",
          "Health & Sports, History & Civics",
          "History & Civics, Applied Learning",
          "Special Needs, Health & Sports",
          "Special Needs, Warmth, Care & Hunger",
          "Music & The Arts, Health & Sports",
          "Health & Sports, Warmth, Care & Hunger",
          "Music & The Arts, History & Civics",
          "Literacy & Language, Warmth, Care & Hunger",
          "Applied Learning, Warmth, Care & Hunger",
          "Music & The Arts, Applied Learning",
          "History & Civics, Health & Sports",
          "Math & Science, Warmth, Care & Hunger",
          "Music & The Arts, Warmth, Care & Hunger",
          "History & Civics, Warmth, Care & Hunger"
         ],
         "y": [
          21.560303163444637,
          15.682666959578206,
          13.455074692442881,
          9.309644112478031,
          4.68310632688928,
          3.8801625659050965,
          3.67146309314587,
          3.4655096660808438,
          2.11061072056239,
          2.045804042179262,
          1.6833260105448156,
          1.6531195079086114,
          1.5806239015817223,
          1.5163664323374342,
          1.3625878734622143,
          1.3005272407732864,
          1.2565905096660808,
          1.203317223198594,
          1.1374121265377857,
          0.9396968365553603,
          0.7222100175746924,
          0.718365553602812,
          0.6815685413005272,
          0.5969903339191565,
          0.570079086115993,
          0.5590949033391915,
          0.382798769771529,
          0.29876977152899825,
          0.2883347978910369,
          0.28613796133567665,
          0.25812829525483305,
          0.2290202108963093,
          0.16641036906854131,
          0.16311511423550087,
          0.14389279437609842,
          0.12906414762741653,
          0.06974956063268893,
          0.03679701230228471,
          0.03569859402460457,
          0.0351493848857645,
          0.01922231985940246,
          0.01757469244288225,
          0.01702548330404218,
          0.015927065026362038,
          0.013730228471001759,
          0.012082601054481546,
          0.011533391915641476,
          0.010984182776801405,
          0.010434973637961337,
          0.001647627416520211,
          0.0005492091388400703
         ]
        }
       ],
       "layout": {
        "title": "CatgoricalDistribution",
        "xaxis": {
         "tickfont": {
          "color": "rgb(107, 107, 107)",
          "size": 14
         },
         "title": "Project category"
        },
        "yaxis": {
         "tickfont": {
          "color": "rgb(139, 0, 139)",
          "size": 14
         },
         "title": "Percentage of proposals",
         "titlefont": {
          "color": "rgb(139, 0, 139)",
          "size": 16
         }
        }
       }
      },
      "text/html": [
       "<div id=\"8f699b84-066b-4d0a-9db7-301afc3d7066\" style=\"height: 525px; width: 100%;\" class=\"plotly-graph-div\"></div><script type=\"text/javascript\">require([\"plotly\"], function(Plotly) { window.PLOTLYENV=window.PLOTLYENV || {};window.PLOTLYENV.BASE_URL=\"https://plot.ly\";Plotly.newPlot(\"8f699b84-066b-4d0a-9db7-301afc3d7066\", [{\"y\": [21.560303163444637, 15.682666959578206, 13.455074692442881, 9.309644112478031, 4.68310632688928, 3.8801625659050965, 3.67146309314587, 3.4655096660808438, 2.11061072056239, 2.045804042179262, 1.6833260105448156, 1.6531195079086114, 1.5806239015817223, 1.5163664323374342, 1.3625878734622143, 1.3005272407732864, 1.2565905096660808, 1.203317223198594, 1.1374121265377857, 0.9396968365553603, 0.7222100175746924, 0.718365553602812, 0.6815685413005272, 0.5969903339191565, 0.570079086115993, 0.5590949033391915, 0.382798769771529, 0.29876977152899825, 0.2883347978910369, 0.28613796133567665, 0.25812829525483305, 0.2290202108963093, 0.16641036906854131, 0.16311511423550087, 0.14389279437609842, 0.12906414762741653, 0.06974956063268893, 0.03679701230228471, 0.03569859402460457, 0.0351493848857645, 0.01922231985940246, 0.01757469244288225, 0.01702548330404218, 0.015927065026362038, 0.013730228471001759, 0.012082601054481546, 0.011533391915641476, 0.010984182776801405, 0.010434973637961337, 0.001647627416520211, 0.0005492091388400703], \"x\": [\"Literacy & Language\", \"Math & Science\", \"Literacy & Language, Math & Science\", \"Health & Sports\", \"Music & The Arts\", \"Special Needs\", \"Literacy & Language, Special Needs\", \"Applied Learning\", \"Math & Science, Literacy & Language\", \"Applied Learning, Literacy & Language\", \"History & Civics\", \"Math & Science, Special Needs\", \"Literacy & Language, Music & The Arts\", \"Math & Science, Music & The Arts\", \"Applied Learning, Special Needs\", \"Health & Sports, Special Needs\", \"History & Civics, Literacy & Language\", \"Warmth, Care & Hunger\", \"Math & Science, Applied Learning\", \"Applied Learning, Math & Science\", \"Literacy & Language, History & Civics\", \"Health & Sports, Literacy & Language\", \"Applied Learning, Music & The Arts\", \"Math & Science, History & Civics\", \"Literacy & Language, Applied Learning\", \"Applied Learning, Health & Sports\", \"Math & Science, Health & Sports\", \"History & Civics, Music & The Arts\", \"History & Civics, Math & Science\", \"Special Needs, Music & The Arts\", \"Health & Sports, Math & Science\", \"History & Civics, Special Needs\", \"Applied Learning, History & Civics\", \"Health & Sports, Applied Learning\", \"Health & Sports, Music & The Arts\", \"Music & The Arts, Special Needs\", \"Literacy & Language, Health & Sports\", \"Health & Sports, History & Civics\", \"History & Civics, Applied Learning\", \"Special Needs, Health & Sports\", \"Special Needs, Warmth, Care & Hunger\", \"Music & The Arts, Health & Sports\", \"Health & Sports, Warmth, Care & Hunger\", \"Music & The Arts, History & Civics\", \"Literacy & Language, Warmth, Care & Hunger\", \"Applied Learning, Warmth, Care & Hunger\", \"Music & The Arts, Applied Learning\", \"History & Civics, Health & Sports\", \"Math & Science, Warmth, Care & Hunger\", \"Music & The Arts, Warmth, Care & Hunger\", \"History & Civics, Warmth, Care & Hunger\"], \"type\": \"bar\"}], {\"title\": \"CatgoricalDistribution\", \"xaxis\": {\"tickfont\": {\"color\": \"rgb(107, 107, 107)\", \"size\": 14}, \"title\": \"Project category\"}, \"yaxis\": {\"tickfont\": {\"color\": \"rgb(139, 0, 139)\", \"size\": 14}, \"titlefont\": {\"color\": \"rgb(139, 0, 139)\", \"size\": 16}, \"title\": \"Percentage of proposals\"}}, {\"linkText\": \"Export to plot.ly\", \"showLink\": true})});</script>"
      ],
      "text/vnd.plotly.v1+html": [
       "<div id=\"8f699b84-066b-4d0a-9db7-301afc3d7066\" style=\"height: 525px; width: 100%;\" class=\"plotly-graph-div\"></div><script type=\"text/javascript\">require([\"plotly\"], function(Plotly) { window.PLOTLYENV=window.PLOTLYENV || {};window.PLOTLYENV.BASE_URL=\"https://plot.ly\";Plotly.newPlot(\"8f699b84-066b-4d0a-9db7-301afc3d7066\", [{\"y\": [21.560303163444637, 15.682666959578206, 13.455074692442881, 9.309644112478031, 4.68310632688928, 3.8801625659050965, 3.67146309314587, 3.4655096660808438, 2.11061072056239, 2.045804042179262, 1.6833260105448156, 1.6531195079086114, 1.5806239015817223, 1.5163664323374342, 1.3625878734622143, 1.3005272407732864, 1.2565905096660808, 1.203317223198594, 1.1374121265377857, 0.9396968365553603, 0.7222100175746924, 0.718365553602812, 0.6815685413005272, 0.5969903339191565, 0.570079086115993, 0.5590949033391915, 0.382798769771529, 0.29876977152899825, 0.2883347978910369, 0.28613796133567665, 0.25812829525483305, 0.2290202108963093, 0.16641036906854131, 0.16311511423550087, 0.14389279437609842, 0.12906414762741653, 0.06974956063268893, 0.03679701230228471, 0.03569859402460457, 0.0351493848857645, 0.01922231985940246, 0.01757469244288225, 0.01702548330404218, 0.015927065026362038, 0.013730228471001759, 0.012082601054481546, 0.011533391915641476, 0.010984182776801405, 0.010434973637961337, 0.001647627416520211, 0.0005492091388400703], \"x\": [\"Literacy & Language\", \"Math & Science\", \"Literacy & Language, Math & Science\", \"Health & Sports\", \"Music & The Arts\", \"Special Needs\", \"Literacy & Language, Special Needs\", \"Applied Learning\", \"Math & Science, Literacy & Language\", \"Applied Learning, Literacy & Language\", \"History & Civics\", \"Math & Science, Special Needs\", \"Literacy & Language, Music & The Arts\", \"Math & Science, Music & The Arts\", \"Applied Learning, Special Needs\", \"Health & Sports, Special Needs\", \"History & Civics, Literacy & Language\", \"Warmth, Care & Hunger\", \"Math & Science, Applied Learning\", \"Applied Learning, Math & Science\", \"Literacy & Language, History & Civics\", \"Health & Sports, Literacy & Language\", \"Applied Learning, Music & The Arts\", \"Math & Science, History & Civics\", \"Literacy & Language, Applied Learning\", \"Applied Learning, Health & Sports\", \"Math & Science, Health & Sports\", \"History & Civics, Music & The Arts\", \"History & Civics, Math & Science\", \"Special Needs, Music & The Arts\", \"Health & Sports, Math & Science\", \"History & Civics, Special Needs\", \"Applied Learning, History & Civics\", \"Health & Sports, Applied Learning\", \"Health & Sports, Music & The Arts\", \"Music & The Arts, Special Needs\", \"Literacy & Language, Health & Sports\", \"Health & Sports, History & Civics\", \"History & Civics, Applied Learning\", \"Special Needs, Health & Sports\", \"Special Needs, Warmth, Care & Hunger\", \"Music & The Arts, Health & Sports\", \"Health & Sports, Warmth, Care & Hunger\", \"Music & The Arts, History & Civics\", \"Literacy & Language, Warmth, Care & Hunger\", \"Applied Learning, Warmth, Care & Hunger\", \"Music & The Arts, Applied Learning\", \"History & Civics, Health & Sports\", \"Math & Science, Warmth, Care & Hunger\", \"Music & The Arts, Warmth, Care & Hunger\", \"History & Civics, Warmth, Care & Hunger\"], \"type\": \"bar\"}], {\"title\": \"CatgoricalDistribution\", \"xaxis\": {\"tickfont\": {\"color\": \"rgb(107, 107, 107)\", \"size\": 14}, \"title\": \"Project category\"}, \"yaxis\": {\"tickfont\": {\"color\": \"rgb(139, 0, 139)\", \"size\": 14}, \"titlefont\": {\"color\": \"rgb(139, 0, 139)\", \"size\": 16}, \"title\": \"Percentage of proposals\"}}, {\"linkText\": \"Export to plot.ly\", \"showLink\": true})});</script>"
      ]
     },
     "metadata": {},
     "output_type": "display_data"
    }
   ],
   "source": [
    "# Data visualization and checking important features\n",
    "import plotly.graph_objs as go\n",
    "import plotly.offline as py\n",
    "py.init_notebook_mode(connected=True)\n",
    "import matplotlib.pyplot as plt\n",
    "categories_count= train_data[\"project_subject_categories\"].value_counts()\n",
    "grph = go.Bar(x = categories_count.index, y = (categories_count / categories_count.sum())*100,)\n",
    "data = [grph]\n",
    "layout = go.Layout(\n",
    "    title = \"CatgoricalDistribution\",\n",
    "    xaxis=dict(\n",
    "        title='Project category',\n",
    "        tickfont=dict(\n",
    "            size=14,\n",
    "            color='rgb(107, 107, 107)'\n",
    "        )\n",
    "    ),\n",
    "    yaxis=dict(\n",
    "        title='Percentage of proposals',\n",
    "        titlefont=dict(\n",
    "            size=16,\n",
    "            color='rgb(139, 0, 139)'\n",
    "        ),\n",
    "        tickfont=dict(\n",
    "            size=14,\n",
    "            color='rgb(139, 0, 139)'\n",
    "        )\n",
    ")\n",
    ")\n",
    "fig = go.Figure(data=data, layout=layout)\n",
    "py.iplot(fig)"
   ]
  },
  {
   "cell_type": "code",
   "execution_count": 56,
   "metadata": {},
   "outputs": [
    {
     "data": {
      "application/vnd.plotly.v1+json": {
       "data": [
        {
         "hoverinfo": "label",
         "labels": [
          1,
          0
         ],
         "type": "pie",
         "values": [
          84.7682337434095,
          15.23176625659051
         ]
        }
       ],
       "layout": {}
      },
      "text/html": [
       "<div id=\"c320b693-bb12-4577-88a0-d10ea3dfe489\" style=\"height: 525px; width: 100%;\" class=\"plotly-graph-div\"></div><script type=\"text/javascript\">require([\"plotly\"], function(Plotly) { window.PLOTLYENV=window.PLOTLYENV || {};window.PLOTLYENV.BASE_URL=\"https://plot.ly\";Plotly.newPlot(\"c320b693-bb12-4577-88a0-d10ea3dfe489\", [{\"type\": \"pie\", \"labels\": [1, 0], \"values\": [84.7682337434095, 15.23176625659051], \"hoverinfo\": \"label\"}], {}, {\"linkText\": \"Export to plot.ly\", \"showLink\": true})});</script>"
      ],
      "text/vnd.plotly.v1+html": [
       "<div id=\"c320b693-bb12-4577-88a0-d10ea3dfe489\" style=\"height: 525px; width: 100%;\" class=\"plotly-graph-div\"></div><script type=\"text/javascript\">require([\"plotly\"], function(Plotly) { window.PLOTLYENV=window.PLOTLYENV || {};window.PLOTLYENV.BASE_URL=\"https://plot.ly\";Plotly.newPlot(\"c320b693-bb12-4577-88a0-d10ea3dfe489\", [{\"type\": \"pie\", \"labels\": [1, 0], \"values\": [84.7682337434095, 15.23176625659051], \"hoverinfo\": \"label\"}], {}, {\"linkText\": \"Export to plot.ly\", \"showLink\": true})});</script>"
      ]
     },
     "metadata": {},
     "output_type": "display_data"
    }
   ],
   "source": [
    "count_approved = train_data['project_is_approved'].value_counts()\n",
    "cal_percent= (count_approved / count_approved.sum())*100\n",
    "labels = count_approved.index\n",
    "grph1 = go.Pie(labels=labels, values=cal_percent, hoverinfo='label')\n",
    "data = [grph1]\n",
    "layout = go.Layout()\n",
    "fig = go.Figure(data=data, layout=layout)\n",
    "py.iplot(fig)"
   ]
  },
  {
   "cell_type": "code",
   "execution_count": 59,
   "metadata": {},
   "outputs": [
    {
     "data": {
      "application/vnd.plotly.v1+json": {
       "data": [
        {
         "type": "bar",
         "x": [
          "Mrs.",
          "Ms.",
          "Mr.",
          "Teacher",
          "Dr."
         ],
         "y": [
          52.39844899931897,
          35.735626881082624,
          9.703091016937982,
          2.148553351347789,
          0.014279751312638679
         ]
        }
       ],
       "layout": {
        "xaxis": {
         "tickfont": {
          "color": "rgb(139, 0, 139)",
          "size": 14
         },
         "title": "Teacher prefix"
        },
        "yaxis": {
         "tickfont": {
          "color": "rgb(139, 0, 139)",
          "size": 14
         },
         "titlefont": {
          "color": "rgb(139, 0, 139)",
          "size": 16
         }
        }
       }
      },
      "text/html": [
       "<div id=\"a73bd2aa-d21c-48cf-b7ea-7c293a0f7fb1\" style=\"height: 525px; width: 100%;\" class=\"plotly-graph-div\"></div><script type=\"text/javascript\">require([\"plotly\"], function(Plotly) { window.PLOTLYENV=window.PLOTLYENV || {};window.PLOTLYENV.BASE_URL=\"https://plot.ly\";Plotly.newPlot(\"a73bd2aa-d21c-48cf-b7ea-7c293a0f7fb1\", [{\"y\": [52.39844899931897, 35.735626881082624, 9.703091016937982, 2.148553351347789, 0.014279751312638679], \"x\": [\"Mrs.\", \"Ms.\", \"Mr.\", \"Teacher\", \"Dr.\"], \"type\": \"bar\"}], {\"xaxis\": {\"tickfont\": {\"color\": \"rgb(139, 0, 139)\", \"size\": 14}, \"title\": \"Teacher prefix\"}, \"yaxis\": {\"tickfont\": {\"color\": \"rgb(139, 0, 139)\", \"size\": 14}, \"titlefont\": {\"color\": \"rgb(139, 0, 139)\", \"size\": 16}}}, {\"linkText\": \"Export to plot.ly\", \"showLink\": true})});</script>"
      ],
      "text/vnd.plotly.v1+html": [
       "<div id=\"a73bd2aa-d21c-48cf-b7ea-7c293a0f7fb1\" style=\"height: 525px; width: 100%;\" class=\"plotly-graph-div\"></div><script type=\"text/javascript\">require([\"plotly\"], function(Plotly) { window.PLOTLYENV=window.PLOTLYENV || {};window.PLOTLYENV.BASE_URL=\"https://plot.ly\";Plotly.newPlot(\"a73bd2aa-d21c-48cf-b7ea-7c293a0f7fb1\", [{\"y\": [52.39844899931897, 35.735626881082624, 9.703091016937982, 2.148553351347789, 0.014279751312638679], \"x\": [\"Mrs.\", \"Ms.\", \"Mr.\", \"Teacher\", \"Dr.\"], \"type\": \"bar\"}], {\"xaxis\": {\"tickfont\": {\"color\": \"rgb(139, 0, 139)\", \"size\": 14}, \"title\": \"Teacher prefix\"}, \"yaxis\": {\"tickfont\": {\"color\": \"rgb(139, 0, 139)\", \"size\": 14}, \"titlefont\": {\"color\": \"rgb(139, 0, 139)\", \"size\": 16}}}, {\"linkText\": \"Export to plot.ly\", \"showLink\": true})});</script>"
      ]
     },
     "metadata": {},
     "output_type": "display_data"
    }
   ],
   "source": [
    "prefix_count = train_data[\"teacher_prefix\"].value_counts()\n",
    "grph2 = go.Bar(x = prefix_count.index, y = (prefix_count / prefix_count.sum())*100,)\n",
    "data = [grph2]\n",
    "layout = go.Layout(\n",
    "    xaxis=dict(title='Teacher prefix',tickfont=dict(size=14, color='rgb(139, 0, 139)')),\n",
    "    yaxis=dict(titlefont=dict(size=16,color='rgb(139, 0, 139)'),tickfont=dict(size=14,color='rgb(139, 0, 139)'))\n",
    ")\n",
    "fig = go.Figure(data=data, layout=layout)\n",
    "py.iplot(fig)"
   ]
  },
  {
   "cell_type": "code",
   "execution_count": 60,
   "metadata": {},
   "outputs": [],
   "source": [
    "#Combining the features that are important for prediction.\n",
    "train_data['combined_essay'] = train_data.apply(lambda row: ' '.join([\n",
    "    str(row['project_essay_1']), \n",
    "    str(row['project_essay_2']), \n",
    "    str(row['project_title']),\n",
    "    str(row['description']),\n",
    "    str(row['project_resource_summary'])\n",
    "    ]), axis=1)\n",
    "\n",
    "test_data['combined_essay'] = test_data.apply(lambda row: ' '.join([\n",
    "    str(row['project_essay_1']), \n",
    "    str(row['project_essay_2']), \n",
    "    str(row['project_title']),\n",
    "    str(row['description']),\n",
    "    str(row['project_resource_summary'])\n",
    "    ]), axis=1)"
   ]
  },
  {
   "cell_type": "code",
   "execution_count": 61,
   "metadata": {},
   "outputs": [
    {
     "data": {
      "text/plain": [
       "'Most of my kindergarten students come from low-income households and are considered \\\\\"at-risk\\\\\". These kids walk to school alongside their parents and most have never been further than walking distance from their house. For 80% of my students, English is not their first language or the language spoken at home. \\\\r\\\\n\\\\r\\\\nWhile my kindergarten kids have many obstacles in front of them, they come to school each day excited and ready to learn. Most students started the year out never being in a school setting. At the start of the year many had never been exposed to letters. Each day they soak up more knowledge and try their hardest to succeed. They are highly motivated to learn new things every day. We are halfway through the year and they are starting to take off. They know know all letters, some sight words, numbers to 20, and a majority of their letter sounds because of their hard work and determination. I am excited to see the places we will go from here! I currently have a differentiated sight word center that we do daily during our literacy stations. The students have activities that relate to whatever sight word list they are on. This is one of their favorite station activities. I want to continue to provide the students with engaging ways to practice their sight words. \\\\r\\\\n\\\\r\\\\nI dream of having the students use QR readers to scan the sight words that they are struggling with and the Ipods reading the sight words with them. This would help so many of my students by giving them multiple exposures to the words. My students need someone who can go over these sight words daily and I can\\'t always get around to everyone to practice their flashcards with them. With the Ipods they would still have a way to practice their sight words on a daily basis. Super Sight Word Centers Apple - iPod nano\\xef\\xbf\\xbd 16GB MP3 Player (8th Generation - Latest Model) - Blue sumvalue Apple - iPod nano\\xef\\xbf\\xbd 16GB MP3 Player (8th Generation - Latest Model) - Silver My students need 6 Ipod Nano\\'s to create and differentiated and engaging way to practice sight words during a literacy station.'"
      ]
     },
     "execution_count": 61,
     "metadata": {},
     "output_type": "execute_result"
    }
   ],
   "source": [
    "train_data.combined_essay[0]"
   ]
  },
  {
   "cell_type": "code",
   "execution_count": 62,
   "metadata": {},
   "outputs": [],
   "source": [
    "text_training = pd.concat([train_data['combined_essay'], test_data['combined_essay']])"
   ]
  },
  {
   "cell_type": "code",
   "execution_count": 63,
   "metadata": {},
   "outputs": [],
   "source": [
    "vect = TfidfVectorizer(\n",
    "    sublinear_tf = True,\n",
    "    strip_accents = 'unicode',\n",
    "    analyzer = 'word',\n",
    "    token_pattern = r'\\w{1,}',\n",
    "    stop_words = 'english',\n",
    "    ngram_range = (1, 2),\n",
    "    max_features = 9000)\n",
    "\n",
    "vect.fit(text_training)\n",
    "\n",
    "train_transformer = vect.transform(train_data['combined_essay'])\n",
    "\n",
    "test_transformer = vect.transform(test_data['combined_essay'])"
   ]
  },
  {
   "cell_type": "code",
   "execution_count": 66,
   "metadata": {},
   "outputs": [
    {
     "data": {
      "text/plain": [
       "MultinomialNB(alpha=1.0, class_prior=None, fit_prior=True)"
      ]
     },
     "execution_count": 66,
     "metadata": {},
     "output_type": "execute_result"
    }
   ],
   "source": [
    "from sklearn.naive_bayes import MultinomialNB\n",
    "outcome = train_data['project_is_approved']\n",
    "nb = MultinomialNB()\n",
    "nb.fit(train_transformer, outcome)"
   ]
  },
  {
   "cell_type": "code",
   "execution_count": 67,
   "metadata": {},
   "outputs": [
    {
     "data": {
      "text/html": [
       "<div>\n",
       "<style scoped>\n",
       "    .dataframe tbody tr th:only-of-type {\n",
       "        vertical-align: middle;\n",
       "    }\n",
       "\n",
       "    .dataframe tbody tr th {\n",
       "        vertical-align: top;\n",
       "    }\n",
       "\n",
       "    .dataframe thead th {\n",
       "        text-align: right;\n",
       "    }\n",
       "</style>\n",
       "<table border=\"1\" class=\"dataframe\">\n",
       "  <thead>\n",
       "    <tr style=\"text-align: right;\">\n",
       "      <th></th>\n",
       "      <th>teacher_id</th>\n",
       "      <th>teacher_prefix</th>\n",
       "      <th>school_state</th>\n",
       "      <th>project_submitted_datetime</th>\n",
       "      <th>project_grade_category</th>\n",
       "      <th>project_subject_categories</th>\n",
       "      <th>project_subject_subcategories</th>\n",
       "      <th>project_title</th>\n",
       "      <th>project_essay_1</th>\n",
       "      <th>project_essay_2</th>\n",
       "      <th>project_essay_3</th>\n",
       "      <th>project_essay_4</th>\n",
       "      <th>project_resource_summary</th>\n",
       "      <th>teacher_number_of_previously_posted_projects</th>\n",
       "    </tr>\n",
       "    <tr>\n",
       "      <th>id</th>\n",
       "      <th></th>\n",
       "      <th></th>\n",
       "      <th></th>\n",
       "      <th></th>\n",
       "      <th></th>\n",
       "      <th></th>\n",
       "      <th></th>\n",
       "      <th></th>\n",
       "      <th></th>\n",
       "      <th></th>\n",
       "      <th></th>\n",
       "      <th></th>\n",
       "      <th></th>\n",
       "      <th></th>\n",
       "    </tr>\n",
       "  </thead>\n",
       "  <tbody>\n",
       "    <tr>\n",
       "      <th>p233245</th>\n",
       "      <td>5724a0c3ce11008366fff36dab4b943c</td>\n",
       "      <td>Ms.</td>\n",
       "      <td>CA</td>\n",
       "      <td>2016-04-27 13:45:41</td>\n",
       "      <td>Grades PreK-2</td>\n",
       "      <td>Music &amp; The Arts</td>\n",
       "      <td>Visual Arts</td>\n",
       "      <td>Art Will Make You Happy!</td>\n",
       "      <td>My 2nd grade students are amazing!  They are v...</td>\n",
       "      <td>My class is made up of 12 boys and 12 girls.  ...</td>\n",
       "      <td>My second grade class will really benefit from...</td>\n",
       "      <td>The genorous donations to my project will make...</td>\n",
       "      <td>My students need a drying rack for their art p...</td>\n",
       "      <td>2</td>\n",
       "    </tr>\n",
       "    <tr>\n",
       "      <th>p096795</th>\n",
       "      <td>445619941dc7cbe81c7be109dc61a56a</td>\n",
       "      <td>Mrs.</td>\n",
       "      <td>SC</td>\n",
       "      <td>2016-04-28 12:43:56</td>\n",
       "      <td>Grades 3-5</td>\n",
       "      <td>Literacy &amp; Language, Math &amp; Science</td>\n",
       "      <td>Literature &amp; Writing, Mathematics</td>\n",
       "      <td>Keeping up with the TIMEs</td>\n",
       "      <td>Students within the classroom work in small gr...</td>\n",
       "      <td>My students are all very talented young indivi...</td>\n",
       "      <td>We do a lot of small group, where the student ...</td>\n",
       "      <td>This project is very important to my classroom...</td>\n",
       "      <td>My students need Time Magazines for next year ...</td>\n",
       "      <td>1</td>\n",
       "    </tr>\n",
       "    <tr>\n",
       "      <th>p236235</th>\n",
       "      <td>e92a4902b1611a189643d6f12c51e6a0</td>\n",
       "      <td>Mrs.</td>\n",
       "      <td>SC</td>\n",
       "      <td>2016-04-29 21:16:05</td>\n",
       "      <td>Grades PreK-2</td>\n",
       "      <td>Math &amp; Science</td>\n",
       "      <td>Applied Sciences, Mathematics</td>\n",
       "      <td>Building Bridges to Problem Solving</td>\n",
       "      <td>My students share  a love of learning. These s...</td>\n",
       "      <td>My class consists of 14 energetic learners.  O...</td>\n",
       "      <td>These Fairy Tale Problem Solving STEM kits wil...</td>\n",
       "      <td>These materials will be help my students with ...</td>\n",
       "      <td>My students need to be mentally stimulated to ...</td>\n",
       "      <td>0</td>\n",
       "    </tr>\n",
       "    <tr>\n",
       "      <th>p233680</th>\n",
       "      <td>8e92622d2985d3faac1de71609c4be72</td>\n",
       "      <td>Mrs.</td>\n",
       "      <td>IA</td>\n",
       "      <td>2016-04-27 22:32:43</td>\n",
       "      <td>Grades PreK-2</td>\n",
       "      <td>Literacy &amp; Language</td>\n",
       "      <td>Literacy</td>\n",
       "      <td>Classroom Library</td>\n",
       "      <td>Reading is the gateway to the soul.  Guiding c...</td>\n",
       "      <td>First graders enter the classroom each day rea...</td>\n",
       "      <td>Book bins will help to organize our classroom ...</td>\n",
       "      <td>When students begin the first grade, many are ...</td>\n",
       "      <td>My students need an organized classroom library.</td>\n",
       "      <td>0</td>\n",
       "    </tr>\n",
       "    <tr>\n",
       "      <th>p171879</th>\n",
       "      <td>91a3c89981f626d9a0d067c65fb186ce</td>\n",
       "      <td>Mr.</td>\n",
       "      <td>CA</td>\n",
       "      <td>2016-04-27 18:59:15</td>\n",
       "      <td>Grades 6-8</td>\n",
       "      <td>Music &amp; The Arts, Special Needs</td>\n",
       "      <td>Performing Arts, Special Needs</td>\n",
       "      <td>Reeds so we can Read</td>\n",
       "      <td>\\\"Mr. Reyes!  I need another reed!\\\"  I hear t...</td>\n",
       "      <td>We have a diverse population with almost entir...</td>\n",
       "      <td>Each day in my class students consume supplies...</td>\n",
       "      <td>My students come from very troubled homes and ...</td>\n",
       "      <td>My students need reeds to perform in class eac...</td>\n",
       "      <td>1</td>\n",
       "    </tr>\n",
       "  </tbody>\n",
       "</table>\n",
       "</div>"
      ],
      "text/plain": [
       "                               teacher_id teacher_prefix school_state  \\\n",
       "id                                                                      \n",
       "p233245  5724a0c3ce11008366fff36dab4b943c            Ms.           CA   \n",
       "p096795  445619941dc7cbe81c7be109dc61a56a           Mrs.           SC   \n",
       "p236235  e92a4902b1611a189643d6f12c51e6a0           Mrs.           SC   \n",
       "p233680  8e92622d2985d3faac1de71609c4be72           Mrs.           IA   \n",
       "p171879  91a3c89981f626d9a0d067c65fb186ce            Mr.           CA   \n",
       "\n",
       "        project_submitted_datetime project_grade_category  \\\n",
       "id                                                          \n",
       "p233245        2016-04-27 13:45:41          Grades PreK-2   \n",
       "p096795        2016-04-28 12:43:56             Grades 3-5   \n",
       "p236235        2016-04-29 21:16:05          Grades PreK-2   \n",
       "p233680        2016-04-27 22:32:43          Grades PreK-2   \n",
       "p171879        2016-04-27 18:59:15             Grades 6-8   \n",
       "\n",
       "                  project_subject_categories  \\\n",
       "id                                             \n",
       "p233245                     Music & The Arts   \n",
       "p096795  Literacy & Language, Math & Science   \n",
       "p236235                       Math & Science   \n",
       "p233680                  Literacy & Language   \n",
       "p171879      Music & The Arts, Special Needs   \n",
       "\n",
       "             project_subject_subcategories  \\\n",
       "id                                           \n",
       "p233245                        Visual Arts   \n",
       "p096795  Literature & Writing, Mathematics   \n",
       "p236235      Applied Sciences, Mathematics   \n",
       "p233680                           Literacy   \n",
       "p171879     Performing Arts, Special Needs   \n",
       "\n",
       "                               project_title  \\\n",
       "id                                             \n",
       "p233245             Art Will Make You Happy!   \n",
       "p096795            Keeping up with the TIMEs   \n",
       "p236235  Building Bridges to Problem Solving   \n",
       "p233680                    Classroom Library   \n",
       "p171879                 Reeds so we can Read   \n",
       "\n",
       "                                           project_essay_1  \\\n",
       "id                                                           \n",
       "p233245  My 2nd grade students are amazing!  They are v...   \n",
       "p096795  Students within the classroom work in small gr...   \n",
       "p236235  My students share  a love of learning. These s...   \n",
       "p233680  Reading is the gateway to the soul.  Guiding c...   \n",
       "p171879  \\\"Mr. Reyes!  I need another reed!\\\"  I hear t...   \n",
       "\n",
       "                                           project_essay_2  \\\n",
       "id                                                           \n",
       "p233245  My class is made up of 12 boys and 12 girls.  ...   \n",
       "p096795  My students are all very talented young indivi...   \n",
       "p236235  My class consists of 14 energetic learners.  O...   \n",
       "p233680  First graders enter the classroom each day rea...   \n",
       "p171879  We have a diverse population with almost entir...   \n",
       "\n",
       "                                           project_essay_3  \\\n",
       "id                                                           \n",
       "p233245  My second grade class will really benefit from...   \n",
       "p096795  We do a lot of small group, where the student ...   \n",
       "p236235  These Fairy Tale Problem Solving STEM kits wil...   \n",
       "p233680  Book bins will help to organize our classroom ...   \n",
       "p171879  Each day in my class students consume supplies...   \n",
       "\n",
       "                                           project_essay_4  \\\n",
       "id                                                           \n",
       "p233245  The genorous donations to my project will make...   \n",
       "p096795  This project is very important to my classroom...   \n",
       "p236235  These materials will be help my students with ...   \n",
       "p233680  When students begin the first grade, many are ...   \n",
       "p171879  My students come from very troubled homes and ...   \n",
       "\n",
       "                                  project_resource_summary  \\\n",
       "id                                                           \n",
       "p233245  My students need a drying rack for their art p...   \n",
       "p096795  My students need Time Magazines for next year ...   \n",
       "p236235  My students need to be mentally stimulated to ...   \n",
       "p233680   My students need an organized classroom library.   \n",
       "p171879  My students need reeds to perform in class eac...   \n",
       "\n",
       "         teacher_number_of_previously_posted_projects  \n",
       "id                                                     \n",
       "p233245                                             2  \n",
       "p096795                                             1  \n",
       "p236235                                             0  \n",
       "p233680                                             0  \n",
       "p171879                                             1  "
      ]
     },
     "execution_count": 67,
     "metadata": {},
     "output_type": "execute_result"
    }
   ],
   "source": [
    "test.head()"
   ]
  },
  {
   "cell_type": "code",
   "execution_count": 68,
   "metadata": {},
   "outputs": [],
   "source": [
    "add_id = pd.DataFrame.from_dict({'id': testing['id']})\n",
    "add_id['project_is_approved'] = nb.predict_proba(test_transformer)[:, 1]"
   ]
  },
  {
   "cell_type": "code",
   "execution_count": 69,
   "metadata": {},
   "outputs": [
    {
     "name": "stdout",
     "output_type": "stream",
     "text": [
      "        id  project_is_approved\n",
      "0  p233245             0.846464\n",
      "1  p096795             0.835708\n",
      "2  p236235             0.852190\n",
      "3  p233680             0.826317\n",
      "4  p171879             0.838651\n",
      "5  p016071             0.978955\n",
      "6  p099906             0.950945\n",
      "7  p200236             0.899455\n",
      "8  p129452             0.524962\n",
      "9  p186652             0.873749\n"
     ]
    }
   ],
   "source": [
    "print(add_id[0:10])"
   ]
  },
  {
   "cell_type": "code",
   "execution_count": 98,
   "metadata": {},
   "outputs": [
    {
     "name": "stdout",
     "output_type": "stream",
     "text": [
      "[ 0.82013895  0.82158941  0.82142465  0.82238576  0.82111767]\n",
      "('Mean CV:', 0.82133128832779667)\n"
     ]
    }
   ],
   "source": [
    "#scores = []\n",
    "validation_score = cross_val_score(nb, train_transformer, outcome, cv=5)\n",
    "#scores.append(validation_score)\n",
    "print(validation_score)\n",
    "nbmean_cv_score = np.mean(validation_score)\n",
    "print('Mean CV:',nbmean_cv_score)"
   ]
  },
  {
   "cell_type": "code",
   "execution_count": 71,
   "metadata": {},
   "outputs": [],
   "source": [
    "add_id.to_csv('submission_final.csv', index=False)"
   ]
  },
  {
   "cell_type": "code",
   "execution_count": 72,
   "metadata": {},
   "outputs": [],
   "source": [
    "classifier = LogisticRegression(C=0.1, solver='sag')\n",
    "classifier.fit(train_transformer, outcome)\n",
    "output = pd.DataFrame.from_dict({'id': testing['id']})\n",
    "output['project_is_approved'] = classifier.predict_proba(test_transformer)[:, 1]"
   ]
  },
  {
   "cell_type": "code",
   "execution_count": 99,
   "metadata": {},
   "outputs": [
    {
     "name": "stdout",
     "output_type": "stream",
     "text": [
      "[ 0.8483126   0.84866542  0.84822605  0.84869288  0.84846904]\n",
      "('Mean CV:', 0.84847319945318667)\n"
     ]
    }
   ],
   "source": [
    "#scores = []\n",
    "validation_score = cross_val_score(classifier, train_transformer, outcome, cv=5)\n",
    "#scores.append(validation_score)\n",
    "print(validation_score)\n",
    "lrmean_cv_score = np.mean(validation_score)\n",
    "print('Mean CV:',lrmean_cv_score)"
   ]
  },
  {
   "cell_type": "code",
   "execution_count": 74,
   "metadata": {},
   "outputs": [],
   "source": [
    "output.to_csv('256submission_lr.csv', index=False)"
   ]
  },
  {
   "cell_type": "code",
   "execution_count": 75,
   "metadata": {},
   "outputs": [
    {
     "data": {
      "text/plain": [
       "XGBClassifier(base_score=0.5, booster='gbtree', colsample_bylevel=1,\n",
       "       colsample_bytree=1, gamma=0, learning_rate=0.1, max_delta_step=0,\n",
       "       max_depth=3, min_child_weight=1, missing=None, n_estimators=100,\n",
       "       n_jobs=1, nthread=None, objective='binary:logistic', random_state=0,\n",
       "       reg_alpha=0, reg_lambda=1, scale_pos_weight=1, seed=None,\n",
       "       silent=True, subsample=1)"
      ]
     },
     "execution_count": 75,
     "metadata": {},
     "output_type": "execute_result"
    }
   ],
   "source": [
    "from numpy import loadtxt\n",
    "from xgboost import XGBClassifier\n",
    "# fit model no training data\n",
    "model = XGBClassifier()\n",
    "model.fit(train_transformer, outcome)"
   ]
  },
  {
   "cell_type": "code",
   "execution_count": 76,
   "metadata": {},
   "outputs": [],
   "source": [
    "xg_output = pd.DataFrame.from_dict({'id': testing['id']})\n",
    "xg_output['project_is_approved'] = model.predict_proba(test_transformer)[:, 1]"
   ]
  },
  {
   "cell_type": "code",
   "execution_count": 77,
   "metadata": {},
   "outputs": [
    {
     "name": "stdout",
     "output_type": "stream",
     "text": [
      "        id  project_is_approved\n",
      "0  p233245             0.932342\n",
      "1  p096795             0.780904\n",
      "2  p236235             0.925716\n",
      "3  p233680             0.764940\n",
      "4  p171879             0.758862\n",
      "5  p016071             0.892360\n",
      "6  p099906             0.926808\n",
      "7  p200236             0.889689\n",
      "8  p129452             0.663071\n",
      "9  p186652             0.940648\n"
     ]
    }
   ],
   "source": [
    "print(xg_output[0:10])"
   ]
  },
  {
   "cell_type": "code",
   "execution_count": 78,
   "metadata": {},
   "outputs": [],
   "source": [
    "xg_output.to_csv('256submission_xg.csv', index=False)"
   ]
  },
  {
   "cell_type": "code",
   "execution_count": 100,
   "metadata": {},
   "outputs": [
    {
     "name": "stdout",
     "output_type": "stream",
     "text": [
      "[ 0.84809292  0.84819859  0.84797891  0.84830844  0.84808458]\n",
      "('Mean CV:', 0.84813268888212279)\n"
     ]
    }
   ],
   "source": [
    "#scores = []\n",
    "validation_score = cross_val_score(model, train_transformer, outcome, cv=5)\n",
    "#scores.append(validation_score)\n",
    "print(validation_score)\n",
    "xgmean_cv_score = np.mean(validation_score)\n",
    "print('Mean CV:',xgmean_cv_score)"
   ]
  },
  {
   "cell_type": "code",
   "execution_count": 81,
   "metadata": {},
   "outputs": [
    {
     "data": {
      "text/plain": [
       "AdaBoostClassifier(algorithm='SAMME.R', base_estimator=None,\n",
       "          learning_rate=1.0, n_estimators=100, random_state=None)"
      ]
     },
     "execution_count": 81,
     "metadata": {},
     "output_type": "execute_result"
    }
   ],
   "source": [
    "from sklearn.ensemble import AdaBoostClassifier\n",
    "ad_clf = AdaBoostClassifier(n_estimators=100)\n",
    "ad_clf.fit(train_transformer, outcome)"
   ]
  },
  {
   "cell_type": "code",
   "execution_count": 82,
   "metadata": {},
   "outputs": [],
   "source": [
    "ad_output = pd.DataFrame.from_dict({'id': testing['id']})\n",
    "ad_output['project_is_approved'] = ad_clf.predict_proba(test_transformer)[:, 1]"
   ]
  },
  {
   "cell_type": "code",
   "execution_count": 83,
   "metadata": {},
   "outputs": [
    {
     "name": "stdout",
     "output_type": "stream",
     "text": [
      "        id  project_is_approved\n",
      "0  p233245             0.507326\n",
      "1  p096795             0.502456\n",
      "2  p236235             0.507428\n",
      "3  p233680             0.504663\n",
      "4  p171879             0.501805\n",
      "5  p016071             0.505949\n",
      "6  p099906             0.506123\n",
      "7  p200236             0.507026\n",
      "8  p129452             0.501011\n",
      "9  p186652             0.508732\n"
     ]
    }
   ],
   "source": [
    "print(ad_output[0:10])"
   ]
  },
  {
   "cell_type": "code",
   "execution_count": 84,
   "metadata": {},
   "outputs": [],
   "source": [
    "ad_output.to_csv('256submission_ad.csv', index=False)"
   ]
  },
  {
   "cell_type": "code",
   "execution_count": 101,
   "metadata": {},
   "outputs": [
    {
     "name": "stdout",
     "output_type": "stream",
     "text": [
      "[ 0.84776341  0.8471551   0.84814367  0.8483359   0.84753536]\n",
      "('Mean CV:', 0.84778668591799811)\n"
     ]
    }
   ],
   "source": [
    "#scores = []\n",
    "validation_score = cross_val_score(ad_clf, train_transformer, outcome, cv=5)\n",
    "#scores.append(validation_score)\n",
    "print(validation_score)\n",
    "admean_cv_score = np.mean(validation_score)\n",
    "print('Mean CV:',admean_cv_score)"
   ]
  },
  {
   "cell_type": "code",
   "execution_count": 86,
   "metadata": {},
   "outputs": [
    {
     "data": {
      "text/plain": [
       "VotingClassifier(estimators=[('lr', LogisticRegression(C=0.1, class_weight=None, dual=False, fit_intercept=True,\n",
       "          intercept_scaling=1, max_iter=100, multi_class='ovr', n_jobs=1,\n",
       "          penalty='l2', random_state=None, solver='sag', tol=0.0001,\n",
       "          verbose=0, warm_start=False)), ('xg', XGBClassifier...='SAMME.R', base_estimator=None,\n",
       "          learning_rate=1.0, n_estimators=100, random_state=None))],\n",
       "         flatten_transform=None, n_jobs=1, voting='soft', weights=None)"
      ]
     },
     "execution_count": 86,
     "metadata": {},
     "output_type": "execute_result"
    }
   ],
   "source": [
    "from sklearn.ensemble import VotingClassifier\n",
    "eclf = VotingClassifier(estimators=[('lr', classifier), ('xg', model), ('ad', ad_clf)], voting='soft')\n",
    "eclf.fit(train_transformer, outcome)"
   ]
  },
  {
   "cell_type": "code",
   "execution_count": 87,
   "metadata": {},
   "outputs": [],
   "source": [
    "eclf_output = pd.DataFrame.from_dict({'id': testing['id']})\n",
    "eclf_output['project_is_approved'] = eclf.predict_proba(test_transformer)[:, 1]"
   ]
  },
  {
   "cell_type": "code",
   "execution_count": 88,
   "metadata": {},
   "outputs": [
    {
     "name": "stdout",
     "output_type": "stream",
     "text": [
      "        id  project_is_approved\n",
      "0  p233245             0.790223\n",
      "1  p096795             0.709623\n",
      "2  p236235             0.782413\n",
      "3  p233680             0.697182\n",
      "4  p171879             0.689697\n",
      "5  p016071             0.777131\n",
      "6  p099906             0.781852\n",
      "7  p200236             0.774190\n",
      "8  p129452             0.575512\n",
      "9  p186652             0.791673\n"
     ]
    }
   ],
   "source": [
    "print(eclf_output[0:10])"
   ]
  },
  {
   "cell_type": "code",
   "execution_count": 89,
   "metadata": {},
   "outputs": [],
   "source": [
    "eclf_output.to_csv('256submission_eclf.csv', index=False)"
   ]
  },
  {
   "cell_type": "code",
   "execution_count": 103,
   "metadata": {},
   "outputs": [
    {
     "name": "stdout",
     "output_type": "stream",
     "text": [
      "[ 0.84809292  0.84819859  0.84797891  0.84830844  0.84808458]\n",
      "('Mean CV:', 0.84813268888212279)\n"
     ]
    }
   ],
   "source": [
    "#scores = []\n",
    "validation_score = cross_val_score(eclf, train_transformer, outcome, cv=5)\n",
    "#scores.append(validation_score)\n",
    "print(validation_score)\n",
    "ecmean_cv_score = np.mean(validation_score)\n",
    "print('Mean CV:',ecmean_cv_score)"
   ]
  },
  {
   "cell_type": "code",
   "execution_count": 91,
   "metadata": {},
   "outputs": [
    {
     "data": {
      "text/plain": [
       "RandomForestClassifier(bootstrap=True, class_weight=None, criterion='gini',\n",
       "            max_depth=None, max_features='auto', max_leaf_nodes=None,\n",
       "            min_impurity_decrease=0.0, min_impurity_split=None,\n",
       "            min_samples_leaf=1, min_samples_split=2,\n",
       "            min_weight_fraction_leaf=0.0, n_estimators=10, n_jobs=1,\n",
       "            oob_score=False, random_state=None, verbose=0,\n",
       "            warm_start=False)"
      ]
     },
     "execution_count": 91,
     "metadata": {},
     "output_type": "execute_result"
    }
   ],
   "source": [
    "from sklearn.ensemble import RandomForestClassifier\n",
    "from sklearn.datasets import make_classification\n",
    "\n",
    "ran_clf = RandomForestClassifier(n_estimators=10)\n",
    "ran_clf.fit(train_transformer, outcome)"
   ]
  },
  {
   "cell_type": "code",
   "execution_count": 92,
   "metadata": {},
   "outputs": [],
   "source": [
    "ran_output = pd.DataFrame.from_dict({'id': testing['id']})\n",
    "ran_output['project_is_approved'] = ran_clf.predict_proba(test_transformer)[:, 1]"
   ]
  },
  {
   "cell_type": "code",
   "execution_count": 93,
   "metadata": {},
   "outputs": [
    {
     "name": "stdout",
     "output_type": "stream",
     "text": [
      "        id  project_is_approved\n",
      "0  p233245                  0.9\n",
      "1  p096795                  0.6\n",
      "2  p236235                  1.0\n",
      "3  p233680                  0.9\n",
      "4  p171879                  1.0\n",
      "5  p016071                  1.0\n",
      "6  p099906                  1.0\n",
      "7  p200236                  0.8\n",
      "8  p129452                  0.5\n",
      "9  p186652                  0.9\n"
     ]
    }
   ],
   "source": [
    "print(ran_output[0:10])"
   ]
  },
  {
   "cell_type": "code",
   "execution_count": 94,
   "metadata": {},
   "outputs": [],
   "source": [
    "ran_output.to_csv('256submission_ran.csv', index=False)"
   ]
  },
  {
   "cell_type": "code",
   "execution_count": 104,
   "metadata": {},
   "outputs": [
    {
     "name": "stdout",
     "output_type": "stream",
     "text": [
      "[ 0.83655985  0.83542948  0.83608853  0.83636314  0.83690787]\n",
      "('Mean CV:', 0.83626977344035147)\n"
     ]
    }
   ],
   "source": [
    "#scores = []\n",
    "validation_score = cross_val_score(ran_clf, train_transformer, outcome, cv=5)\n",
    "#scores.append(validation_score)\n",
    "print(validation_score)\n",
    "rfmean_cv_score = np.mean(validation_score)\n",
    "print('Mean CV:',rfmean_cv_score)"
   ]
  },
  {
   "cell_type": "code",
   "execution_count": null,
   "metadata": {},
   "outputs": [],
   "source": []
  }
 ],
 "metadata": {
  "kernelspec": {
   "display_name": "Python 2",
   "language": "python",
   "name": "python2"
  },
  "language_info": {
   "codemirror_mode": {
    "name": "ipython",
    "version": 2
   },
   "file_extension": ".py",
   "mimetype": "text/x-python",
   "name": "python",
   "nbconvert_exporter": "python",
   "pygments_lexer": "ipython2",
   "version": "2.7.14"
  }
 },
 "nbformat": 4,
 "nbformat_minor": 2
}
